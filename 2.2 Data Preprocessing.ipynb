{
 "cells": [
  {
   "cell_type": "markdown",
   "id": "76e8a8f4",
   "metadata": {},
   "source": [
    "# 2.2 Data Preprocessing"
   ]
  },
  {
   "cell_type": "markdown",
   "id": "1f298ef3",
   "metadata": {},
   "source": [
    "## 2.2.1 Reading the Dataset"
   ]
  },
  {
   "cell_type": "markdown",
   "id": "7ce35fa3",
   "metadata": {},
   "source": [
    "create a new data file"
   ]
  },
  {
   "cell_type": "code",
   "execution_count": 3,
   "id": "b37aa64b",
   "metadata": {},
   "outputs": [],
   "source": [
    "import os\n",
    "\n",
    "os.makedirs(os.path.join('..', 'data'), exist_ok = True)\n",
    "data_file = os.path.join('..', 'data', 'house_tiny.csv')\n",
    "with open(data_file, 'w') as f:\n",
    "    f.write('NumRooms,Alley,Price\\n')  # names of columns\n",
    "    f.write('NA,Pave,127500\\n')  # each row represents one data record\n",
    "    f.write('2,NA,106000\\n')\n",
    "    f.write('4,NA,178100\\n')\n",
    "    f.write('NA,NA,140000\\n')"
   ]
  },
  {
   "cell_type": "markdown",
   "id": "170a6016",
   "metadata": {},
   "source": [
    "use pandas to read data from the csv file"
   ]
  },
  {
   "cell_type": "code",
   "execution_count": 5,
   "id": "e1b56a83",
   "metadata": {},
   "outputs": [
    {
     "name": "stdout",
     "output_type": "stream",
     "text": [
      "   NumRooms Alley   Price\n",
      "0       NaN  Pave  127500\n",
      "1       2.0   NaN  106000\n",
      "2       4.0   NaN  178100\n",
      "3       NaN   NaN  140000\n"
     ]
    }
   ],
   "source": [
    "import pandas as pd\n",
    "\n",
    "data = pd.read_csv(data_file)\n",
    "print (data)"
   ]
  },
  {
   "cell_type": "markdown",
   "id": "46e4507f",
   "metadata": {},
   "source": [
    "## 2.2.2 Data Preparation"
   ]
  },
  {
   "cell_type": "markdown",
   "id": "1df4ca41",
   "metadata": {},
   "source": [
    "use iloc to split data and fill NaN value with mean of other values"
   ]
  },
  {
   "cell_type": "code",
   "execution_count": 6,
   "id": "a2132458",
   "metadata": {},
   "outputs": [
    {
     "name": "stdout",
     "output_type": "stream",
     "text": [
      "   NumRooms Alley\n",
      "0       3.0  Pave\n",
      "1       2.0   NaN\n",
      "2       4.0   NaN\n",
      "3       3.0   NaN\n"
     ]
    },
    {
     "name": "stderr",
     "output_type": "stream",
     "text": [
      "/var/folders/ht/3xt7t2zn3y99mbj2hjpzp1nw0000gn/T/ipykernel_21415/38268100.py:2: FutureWarning: The default value of numeric_only in DataFrame.mean is deprecated. In a future version, it will default to False. In addition, specifying 'numeric_only=None' is deprecated. Select only valid columns or specify the value of numeric_only to silence this warning.\n",
      "  inputs = inputs.fillna(inputs.mean())\n"
     ]
    }
   ],
   "source": [
    "inputs, outputs = data.iloc[:, 0:2], data.iloc[:, 2]\n",
    "inputs = inputs.fillna(inputs.mean())\n",
    "print(inputs)"
   ]
  },
  {
   "cell_type": "markdown",
   "id": "75fccbe1",
   "metadata": {},
   "source": [
    "If the column only has 2 values, change it to 2 rows with boolean values"
   ]
  },
  {
   "cell_type": "code",
   "execution_count": 7,
   "id": "0cf6be72",
   "metadata": {
    "scrolled": true
   },
   "outputs": [
    {
     "name": "stdout",
     "output_type": "stream",
     "text": [
      "   NumRooms  Alley_Pave  Alley_nan\n",
      "0       3.0           1          0\n",
      "1       2.0           0          1\n",
      "2       4.0           0          1\n",
      "3       3.0           0          1\n"
     ]
    }
   ],
   "source": [
    "inputs = pd.get_dummies(inputs, dummy_na=True)\n",
    "print(inputs)"
   ]
  },
  {
   "cell_type": "markdown",
   "id": "bc024975",
   "metadata": {},
   "source": [
    "## 2.2.3 Conversion to the Tensor Format"
   ]
  },
  {
   "cell_type": "markdown",
   "id": "b620d175",
   "metadata": {},
   "source": [
    "Then we can convert the data into tensor to make our calculation easier."
   ]
  },
  {
   "cell_type": "code",
   "execution_count": 10,
   "id": "157d9cc4",
   "metadata": {},
   "outputs": [
    {
     "data": {
      "text/plain": [
       "(tensor([[3., 1., 0.],\n",
       "         [2., 0., 1.],\n",
       "         [4., 0., 1.],\n",
       "         [3., 0., 1.]], dtype=torch.float64),\n",
       " tensor([127500, 106000, 178100, 140000]))"
      ]
     },
     "execution_count": 10,
     "metadata": {},
     "output_type": "execute_result"
    }
   ],
   "source": [
    "import torch\n",
    "\n",
    "X, y = torch.tensor(inputs.values), torch.tensor(outputs.values)\n",
    "X, y"
   ]
  },
  {
   "cell_type": "code",
   "execution_count": null,
   "id": "9f2b33a8",
   "metadata": {},
   "outputs": [],
   "source": []
  }
 ],
 "metadata": {
  "kernelspec": {
   "display_name": "Python 3 (ipykernel)",
   "language": "python",
   "name": "python3"
  },
  "language_info": {
   "codemirror_mode": {
    "name": "ipython",
    "version": 3
   },
   "file_extension": ".py",
   "mimetype": "text/x-python",
   "name": "python",
   "nbconvert_exporter": "python",
   "pygments_lexer": "ipython3",
   "version": "3.9.12"
  }
 },
 "nbformat": 4,
 "nbformat_minor": 5
}
